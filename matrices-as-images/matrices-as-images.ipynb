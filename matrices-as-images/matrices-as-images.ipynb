{
  "cells": [
    {
      "metadata": {
        "collapsed": true
      },
      "cell_type": "markdown",
      "source": "<h1 align='center'>Matrices as Images</h1>"
    },
    {
      "metadata": {},
      "cell_type": "markdown",
      "source": "<h2>Prerequisites</h2>\n<ul>\n    <li>The basic concept of <a href=\"https://en.wikipedia.org/wiki/Pixel\" target=\"_blank\">pixels</a></li>\n    <li>The <a href=\"https://en.wikipedia.org/wiki/RGB_color_model\" target=\"_blank\">RGB color model</a></li>\n    <li>You've seen a <a href=\"https://en.wikipedia.org/wiki/Matrix_(mathematics)\" target=\"_blank\">matrix</a></li>\n</ul>"
    },
    {
      "metadata": {
        "trusted": true
      },
      "cell_type": "markdown",
      "source": "<h2>Introduction</h2>\n\nDepending on whom you ask, there are a number of different answers you will receive to the question, \"What is a matrix?\".  On most days, I would answer that it represents a linear transformation of a vector space.  Someone else would answer that it is convenient bookkeeping for encoding a system of equations.  Someone putting on airs might describe it as an order 2 tensor (sidenote: run away from the person who provides such an answer to a student in their first linear algebra course).  Finally, someone might describe it as a 2-dimensional grid in which we may organize information.\n\nThis final answer is, arguably, the most accurate answer (<a href=\"https://en.wikipedia.org/wiki/Matrix_(mathematics)\" target=\"_blank\">Wikipedia</a> seems to agree).  But, the preceding answers aren't entirely incorrect.  Because of the sizeable utility of matrices and, as a consequence, their ubiquitity in both pure and applied math, matrices generally appear with interpretations laid on top of them.  Depending on how careful we are being, we may forget that a matrix is not necessarily the object or action that it represents.\n\nAccepting that matrices generally come loaded with interpretations, let's follow suit and discuss matrices as a means to encode the state of a pixel in an image.  We will iterate on this idea, adding complexity as we go.  First we will develop matrices as encoding the information for a black and white image.  Then, we will extend this to a greyscale image.  And, we will finish by discussing a full-color, RGB, image.\n\n<h2>Matrices as black and white images</h2>\n\nTo begin, let's assume that a pixel can only be either black or white.  Take the following image:"
    },
    {
      "metadata": {
        "trusted": true
      },
      "cell_type": "code",
      "source": "import matplotlib.pyplot as plt\nface = [[0,0,0,0,0],\n        [0,1,0,1,0],\n        [0,0,0,0,0],\n        [0,1,0,1,0],\n        [0,0,1,0,0],\n        [0,0,0,0,0]]\nplt.matshow(face, cmap='gray_r')\nplt.show()",
      "execution_count": 2,
      "outputs": [
        {
          "output_type": "display_data",
          "data": {
            "image/png": "[encoded data removed]",
            "text/plain": "<matplotlib.figure.Figure at 0x7f8b2607b198>"
          },
          "metadata": {}
        }
      ]
    },
    {
      "metadata": {},
      "cell_type": "markdown",
      "source": "where we have labelled the pixel locations for easy reference.  We see that there are five black pixels and 25 white pixels. \n\nBecause the pixels of an image form a natural grid layout, it is tempting to represent the same information numerically using a matrix:\n\n$$\\begin{bmatrix}\n0 & 0 & 0 & 0 & 0\\\\\n0 & 1 & 0 & 1 & 0\\\\\n0 & 0 & 0 & 0 & 0\\\\\n0 & 1 & 0 & 1 & 0\\\\\n0 & 0 & 1 & 0 & 0\\\\\n0 & 0 & 0 & 0 & 0\\\\\n\\end{bmatrix}$$"
    },
    {
      "metadata": {},
      "cell_type": "markdown",
      "source": "where 1 indicates a black pixel and 0 represents a white pixel.  If you needed to share this image with someone, but weren't able to show them the actual image, then this matrix would make for a reasonable stand-in. Indeed, if you squint a little, you can see that the same smily face appears in both cases."
    },
    {
      "metadata": {},
      "cell_type": "markdown",
      "source": "<h2>Matrices as grayscale images</h2>\n\nNow, let's extend this basic idea by introducing fractional values.  This time, let's begin by taking a matrix:\n\n$$\n\\begin{bmatrix}\n  0 & 0 & 0 & 0 & 0 & 0 & 0 & 0 & 0\\\\\n  0 & 0 & 1 & 1 & 1 & 1 & 1 & 0 & 0\\\\\n  0 & 1 & \\frac{1}{2} & \\frac{1}{2} & \\frac{1}{2} & \\frac{1}{2} & \\frac{1}{2} & 1 & 0\\\\\n  0 & 1 & \\frac{1}{2} & 1 & \\frac{1}{2} & 1 & \\frac{1}{2} & 1 & 0\\\\\n  0 & 1 & \\frac{1}{2} & \\frac{1}{2} & \\frac{1}{2} & \\frac{1}{2} & \\frac{1}{2} & 1 & 0\\\\\n  0 & 1 & \\frac{1}{2} & 1 & 1 & 1 & \\frac{1}{2} & 1 & 0\\\\\n  0 & 0 & \\frac{1}{2} & \\frac{1}{2} & \\frac{1}{2} & \\frac{1}{2} & \\frac{1}{2} & 0 & 0\\\\\n  \\frac{1}{2} & \\frac{1}{2} & \\frac{3}{4} & \\frac{3}{4} & \\frac{3}{4} & \\frac{3}{4} & \\frac{3}{4} & \\frac{1}{2} & \\frac{1}{2}\\\\\n  \\frac{1}{2} & \\frac{1}{2} & \\frac{3}{4} & \\frac{3}{4} & \\frac{3}{4} & \\frac{3}{4} & \\frac{3}{4} & \\frac{1}{2} & \\frac{1}{2}\\\\\n  0 & 0 & \\frac{3}{4} & \\frac{3}{4} & \\frac{3}{4} & \\frac{3}{4} & \\frac{3}{4} & 0 & 0\\\\\n  0 & 0 & \\frac{1}{4} & \\frac{1}{4} & \\frac{1}{4} & \\frac{1}{4} & \\frac{1}{4} & 0 & 0\\\\\n  0 & 0 & \\frac{1}{2} & \\frac{1}{2} & 0 & \\frac{1}{2} & \\frac{1}{2} & 0 & 0\\\\\n\\end{bmatrix}\n$$\n\nIf we choose to interpret these fractional values as greyscale (where 1 is black, 0 is white, and fractions represent an  intensity of the shade of grey), we can render the corresponding image:"
    },
    {
      "metadata": {
        "trusted": true
      },
      "cell_type": "code",
      "source": "person = [[0,0,0,0,0,0,0,0,0],\n          [0,0,1,1,1,1,1,0,0],\n          [0,1,.5,.5,.5,.5,.5,1,0],\n          [0,1,.5,1,.5,1,.5,1,0],\n          [0,1,.5,.5,.5,.5,.5,1,0],\n          [0,1,.5,1,1,1,.5,1,0],\n          [0,0,.5,.5,.5,.5,.5,0,0],\n          [.5,.5,.75,.75,.75,.75,.75,.5,.5],\n          [.5,.5,.75,.75,.75,.75,.75,.5,.5],\n          [0,0,.75,.75,.75,.75,.75,0,0],\n          [0,0,.25,.25,.25,.25,.25,0,0],\n          [0,0,.5,.5,0,.5,.5,0,0]]\nplt.matshow(person, cmap='gray_r')\nplt.show()",
      "execution_count": 3,
      "outputs": [
        {
          "output_type": "display_data",
          "data": {
            "image/png": "[encoded data removed]",
            "text/plain": "<matplotlib.figure.Figure at 0x7f8b25dfa400>"
          },
          "metadata": {}
        }
      ]
    },
    {
      "metadata": {},
      "cell_type": "markdown",
      "source": "In theory, you could send someone a blank 8x11 grid and the matrix above, and they could fill in the appropriate shading.  In fact, the <a href='https://en.wikipedia.org/wiki/Paint_by_number' target='_blank'>paint-by-numbers</a> people beat us to this idea by about 70 years, simply using a less rigid grid system and a nominal classification of the colors, rather than our percentage classification of the shading."
    },
    {
      "metadata": {
        "trusted": true
      },
      "cell_type": "markdown",
      "source": "<h2>Images in full color</h2>"
    },
    {
      "metadata": {},
      "cell_type": "markdown",
      "source": "Now, let's further extend this idea to a full-color, RGB, image. Consider the following image (modelled after this <a href=\"https://www.brik.co/blogs/pixel-art/palm-trees-pixel-art-1\" target=\"_blank\">design</a>)"
    },
    {
      "metadata": {
        "trusted": true
      },
      "cell_type": "code",
      "source": "image_file = 'palm.png'\npalm = plt.imread(image_file) \nplt.axis('off')\nplt.imshow(palm)",
      "execution_count": 4,
      "outputs": [
        {
          "output_type": "execute_result",
          "execution_count": 4,
          "data": {
            "text/plain": "<matplotlib.image.AxesImage at 0x7f8b25d7c908>"
          },
          "metadata": {}
        },
        {
          "output_type": "display_data",
          "data": {
            "image/png": "[encoded data removed]",
            "text/plain": "<matplotlib.figure.Figure at 0x7f8b26063ba8>"
          },
          "metadata": {}
        }
      ]
    },
    {
      "metadata": {},
      "cell_type": "markdown",
      "source": "We have the following colors for the pixels in this image:"
    },
    {
      "metadata": {
        "trusted": true
      },
      "cell_type": "code",
      "source": "colorscheme = [[[ .0627,  .4157,  .2510], #dark green (16,106,64)\n                [ .6902,  .7412,  .3137], #light green (176,189,80)\n                [ .4118,  .3098,  .2667]], #brown (105,79,68)\n               [[ .4745, .3333, .2824],   #light brown (121,85,72)\n                [.9882, .4941, .2510],    #orange (252,126,64)\n                [.9960, .7569, .2392]],   #yellow (254,193,61)\n               [[0, .4667, .7451],        #ocean blue (0,119,190)\n                [.6, .8, 1],              #sky blue (153,204,255)\n                [1, 1, 1]]]\nplt.imshow(colorscheme)\nplt.axis('off')\nplt.show()",
      "execution_count": 5,
      "outputs": [
        {
          "output_type": "display_data",
          "data": {
            "image/png": "[encoded data removed]",
            "text/plain": "<matplotlib.figure.Figure at 0x7f8b25d0f2b0>"
          },
          "metadata": {}
        }
      ]
    },
    {
      "metadata": {},
      "cell_type": "markdown",
      "source": "Each pixel, in fact, receives three pieces of information: an amount of red, green, and blue, given as a triplet (red, green, blue) with values ranging from 0 to 255.  For example, the blue of the ocean has an RGB value of (0,119,190) and the orange on the island has an RGB value of (252,126,64).  And, it should seem reasonable that the very blue color has zero red in it, whereas, the orange color has a great deal of red in it.  \n\nTo be clear, these values represent the amount of, say, red that a pixel should recieve.  So, 0 indicates that it should receive no red and 255 indicates full red.  Ultimately, this is another way of representing fractional values.  We could, in fact, normalize these values to be between 0 and 1, like we did with the greyscale example above.  For example, a value of 85 in the range [0,255] is equivalent to the value of $\\frac{1}{3}$ in the range [0,1].  The choice is somewhat arbitrary (some color classification websites will give you <a href=\"https://www.colorhexa.com/0077be\" target='_blank'>both</a>, along with a number of other systems for representing colors), but below we will see that the integer values do make the matrix representation easier to read.\n\nWe can reframe this slightly: because every pixel receives red, green, and blue information, we can discuss the amount of, say, red that is passed into all of the pixels separately from the other colors.  And, we can represent this as a, fairly large, matrix, where each entry indicates the amount of red in each corresponding pixel of the image.\n\n"
    },
    {
      "metadata": {},
      "cell_type": "markdown",
      "source": "$$\n\\begin{bmatrix}\n  153 & 153 & 153 & 153 & 153 & 153 & 153 & 153 & 153 & 153 & 153 & 153 & 153 & 153 & 153 & 153\\\\\n  153 & 153 & 153 & 153 & 153 & 153 & 153 & 153 & 153 & 153 & 153 & 153 & 153 & 153 & 153 & 153\\\\\n  153 & 153 & 153 & 153 & 153 & 153 & 153 & 153 & 153 & 153 & 153 & 153 & 153 & 153 & 153 & 153\\\\\n  153 & 153 & 153 & 153 & 153 & 153 & 153 & 153 & 153 & 153 & 153 & 153 & 153 & 153 & 153 & 153\\\\\n  153 & 153 & 153 & 153 & 153 & 153 & 153 & 153 & 153 & 153 & 153 & 153 & 16 & 176 & 153 & 153\\\\\n  153 & 153 & 153 & 176 & 16 & 153 & 153 & 16 & 16 & 153 & 153 & 16 & 176 & 153 & 153 & 153\\\\\n  153 & 153 & 176 & 16 & 153 & 153 & 153 & 176 & 176 & 16 & 16 & 16 & 176 & 153 & 153 & 153\\\\\n  153 & 153 & 176 & 16 & 153 & 176 & 16 & 153 & 153 & 176 & 176 & 176 & 16 & 16 & 16 & 153\\\\\n  153 & 153 & 176 & 16 & 176 & 16 & 153 & 176 & 176 & 16 & 16 & 176 & 176 & 16 & 176 & 16\\\\\n  153 & 16 & 16 & 176 & 16 & 153 & 153 & 16 & 16 & 153 & 105 & 105 & 16 & 176 & 16 & 153\\\\\n  16 & 176 & 176 & 16 & 176 & 105 & 153 & 153 & 153 & 153 & 121 & 105 & 16 & 176 & 16 & 153\\\\\n  16 & 153 & 176 & 16 & 176 & 105 & 121 & 153 & 153 & 105 & 105 & 121 & 153 & 176 & 16 & 153\\\\\n  153 & 153 & 16 & 176 & 153 & 153 & 105 & 105 & 153 & 121 & 105 & 153 & 153 & 153 & 153 & 153\\\\\n  153 & 153 & 16 & 176 & 153 & 153 & 153 & 121 & 105 & 105 & 121 & 153 & 153 & 153 & 153 & 153\\\\\n  153 & 153 & 153 & 153 & 153 & 153 & 153 & 105 & 121 & 105 & 105 & 153 & 153 & 153 & 153 & 153\\\\\n  0 & 0 & 0 & 0 & 0 & 0 & 0 & 0 & 105 & 121 & 0 & 0 & 0 & 0 & 0 & 0\\\\\n  0 & 0 & 0 & 0 & 0 & 254 & 254 & 254 & 105 & 105 & 254 & 254 & 0 & 0 & 0 & 0\\\\\n  0 & 0 & 0 & 0 & 254 & 254 & 254 & 254 & 121 & 105 & 254 & 254 & 254 & 253 & 0 & 0\\\\\n  0 & 0 & 0 & 0 & 253 & 253 & 254 & 254 & 254 & 254 & 254 & 254 & 253 & 253 & 0 & 0\\\\\n  0 & 0 & 0 & 0 & 0 & 253 & 253 & 253 & 253 & 253 & 253 & 253 & 253 & 0 & 0 & 0\\\\\n\\end{bmatrix}\n$$"
    },
    {
      "metadata": {},
      "cell_type": "markdown",
      "source": "Note how the pixels corresponding to the ocean have a red value of zero, as we would expect.\n\nSimilarly, we can isolate the green information: \n$$\n\\begin{bmatrix}\n  204 & 204 & 204 & 204 & 204 & 204 & 204 & 204 & 204 & 204 & 204 & 204 & 204 & 204 & 204 & 204\\\\\n  204 & 204 & 204 & 204 & 204 & 204 & 204 & 204 & 204 & 204 & 204 & 204 & 204 & 204 & 204 & 204\\\\\n  204 & 204 & 204 & 204 & 204 & 204 & 204 & 204 & 204 & 204 & 204 & 204 & 204 & 204 & 204 & 204\\\\\n  204 & 204 & 204 & 204 & 204 & 204 & 204 & 204 & 204 & 204 & 204 & 204 & 204 & 204 & 204 & 204\\\\\n  204 & 204 & 204 & 204 & 204 & 204 & 204 & 204 & 204 & 204 & 204 & 204 & 106 & 189 & 204 & 204\\\\\n  204 & 204 & 204 & 189 & 106 & 204 & 204 & 106 & 106 & 204 & 204 & 106 & 189 & 204 & 204 & 204\\\\\n  204 & 204 & 189 & 106 & 204 & 204 & 204 & 189 & 189 & 106 & 106 & 106 & 189 & 204 & 204 & 204\\\\\n  204 & 204 & 189 & 106 & 204 & 189 & 106 & 204 & 204 & 189 & 189 & 189 & 106 & 106 & 106 & 204\\\\\n  204 & 204 & 189 & 106 & 189 & 106 & 204 & 189 & 189 & 106 & 106 & 189 & 189 & 106 & 189 & 106\\\\\n  204 & 106 & 106 & 189 & 106 & 204 & 204 & 106 & 106 & 204 & 79 & 79 & 106 & 189 & 106 & 204\\\\\n  106 & 189 & 189 & 106 & 189 & 79 & 204 & 204 & 204 & 204 & 85 & 79 & 106 & 189 & 106 & 204\\\\\n  106 & 204 & 189 & 106 & 189 & 79 & 85 & 204 & 204 & 79 & 79 & 85 & 204 & 189 & 106 & 204\\\\\n  204 & 204 & 106 & 189 & 204 & 204 & 79 & 79 & 204 & 85 & 79 & 204 & 204 & 204 & 204 & 204\\\\\n  204 & 204 & 106 & 189 & 204 & 204 & 204 & 85 & 79 & 79 & 85 & 204 & 204 & 204 & 204 & 204\\\\\n  204 & 204 & 204 & 204 & 204 & 204 & 204 & 79 & 85 & 79 & 79 & 204 & 204 & 204 & 204 & 204\\\\\n  120 & 120 & 120 & 120 & 120 & 120 & 120 & 120 & 79 & 85 & 120 & 120 & 120 & 120 & 120 & 120\\\\\n  120 & 120 & 120 & 120 & 120 & 193 & 193 & 193 & 79 & 79 & 193 & 193 & 120 & 120 & 120 & 120\\\\\n  120 & 120 & 120 & 120 & 193 & 193 & 193 & 193 & 85 & 79 & 193 & 193 & 193 & 127 & 120 & 120\\\\\n  120 & 120 & 120 & 120 & 127 & 127 & 193 & 193 & 193 & 193 & 193 & 193 & 127 & 127 & 120 & 120\\\\\n  120 & 120 & 120 & 120 & 120 & 127 & 127 & 127 & 127 & 127 & 127 & 127 & 127 & 120 & 120 & 120\\\\\n\\end{bmatrix}\n$$\n\nAnd the blue information:\n\n$$\n\\begin{bmatrix}\n  255 & 255 & 255 & 255 & 255 & 255 & 255 & 255 & 255 & 255 & 255 & 255 & 255 & 255 & 255 & 255\\\\\n  255 & 255 & 255 & 255 & 255 & 255 & 255 & 255 & 255 & 255 & 255 & 255 & 255 & 255 & 255 & 255\\\\\n  255 & 255 & 255 & 255 & 255 & 255 & 255 & 255 & 255 & 255 & 255 & 255 & 255 & 255 & 255 & 255\\\\\n  255 & 255 & 255 & 255 & 255 & 255 & 255 & 255 & 255 & 255 & 255 & 255 & 255 & 255 & 255 & 255\\\\\n  255 & 255 & 255 & 255 & 255 & 255 & 255 & 255 & 255 & 255 & 255 & 255 & 64 & 80 & 255 & 255\\\\\n  255 & 255 & 255 & 80 & 64 & 255 & 255 & 64 & 64 & 255 & 255 & 64 & 80 & 255 & 255 & 255\\\\\n  255 & 255 & 80 & 64 & 255 & 255 & 255 & 80 & 80 & 64 & 64 & 64 & 80 & 255 & 255 & 255\\\\\n  255 & 255 & 80 & 64 & 255 & 80 & 64 & 255 & 255 & 80 & 80 & 80 & 64 & 64 & 64 & 255\\\\\n  255 & 255 & 80 & 64 & 80 & 64 & 255 & 80 & 80 & 64 & 64 & 80 & 80 & 64 & 80 & 64\\\\\n  255 & 64 & 64 & 80 & 64 & 255 & 255 & 64 & 64 & 255 & 68 & 68 & 64 & 80 & 64 & 255\\\\\n  64 & 80 & 80 & 64 & 80 & 68 & 255 & 255 & 255 & 255 & 72 & 68 & 64 & 80 & 64 & 255\\\\\n  64 & 255 & 80 & 64 & 80 & 68 & 72 & 255 & 255 & 68 & 68 & 72 & 255 & 80 & 64 & 255\\\\\n  255 & 255 & 64 & 80 & 255 & 255 & 68 & 68 & 255 & 72 & 68 & 255 & 255 & 255 & 255 & 255\\\\\n  255 & 255 & 64 & 80 & 255 & 255 & 255 & 72 & 68 & 68 & 72 & 255 & 255 & 255 & 255 & 255\\\\\n  255 & 255 & 255 & 255 & 255 & 255 & 255 & 68 & 72 & 68 & 68 & 255 & 255 & 255 & 255 & 255\\\\\n  190 & 190 & 190 & 190 & 190 & 190 & 190 & 190 & 68 & 72 & 190 & 190 & 190 & 190 & 190 & 190\\\\\n  190 & 190 & 190 & 190 & 190 & 61 & 61 & 61 & 68 & 68 & 61 & 61 & 190 & 190 & 190 & 190\\\\\n  190 & 190 & 190 & 190 & 61 & 61 & 61 & 61 & 72 & 68 & 61 & 61 & 61 & 64 & 190 & 190\\\\\n  190 & 190 & 190 & 190 & 64 & 64 & 61 & 61 & 61 & 61 & 61 & 61 & 64 & 64 & 190 & 190\\\\\n  190 & 190 & 190 & 190 & 190 & 64 & 64 & 64 & 64 & 64 & 64 & 64 & 64 & 190 & 190 & 190\\\\\n\\end{bmatrix}\n$$"
    },
    {
      "metadata": {},
      "cell_type": "markdown",
      "source": "Indeed, based on these matrices, we could represent 3 versions of the image, one for each color:"
    },
    {
      "metadata": {
        "trusted": true
      },
      "cell_type": "code",
      "source": "fig = plt.figure(figsize=(15, 12))\n\nax1 = fig.add_subplot(1,3,1)    \nax2 = fig.add_subplot(1,3,2)\nax3 = fig.add_subplot(1,3,3)\n\nax1.imshow(palm_rgb['red'], cmap='Reds')\nax2.imshow(palm_rgb['green'], cmap='Greens')\nax3.imshow(palm_rgb['blue'], cmap='Blues')\nax1.axis('off')\nax2.axis('off')\nax3.axis('off')\n\nplt.show()",
      "execution_count": 10,
      "outputs": [
        {
          "output_type": "display_data",
          "data": {
            "image/png": "[encoded data removed]",
            "text/plain": "<matplotlib.figure.Figure at 0x7f8b25cd0cc0>"
          },
          "metadata": {}
        }
      ]
    },
    {
      "metadata": {},
      "cell_type": "markdown",
      "source": "And, a nice way to conceptualize the final image is to imagine laying each of these colored sheets on top of each other, so that the colors blend together.  Because the dimensions of the red, green, and blue matrices all agree, we can be confident that every pixel will receive red, green, and blue information.\n\nThe details of the digital image processing are a little too far afield for this article (but certainly accessible with sufficient curiosity; <a href='https://archive.org/details/Lectures_on_Image_Processing' target='_blank'>these lectures</a> and <a href='http://preservationtutorial.library.cornell.edu/tutorial/contents.html' target='_blank'>this tutorial</a> seem like reasonable starting points), as are the technical details of how one can \"glue\" the corresponding matrices together.  As an introduction, some intuition on how matrices can encode information was our true goal here, and we can leave some mysteries for another day."
    },
    {
      "metadata": {},
      "cell_type": "markdown",
      "source": "<h2>Closing Thoughts</h2>\n\nAs we have demonstrated, we can use matrices to encode the state of a pixel within an image, in part because both the grouping of pixels and the format of matrices adhere to a 2-dimensional grid layout.  It is important to note that matrices do not intrinsically represent pixel information.  Rather, we laid this interpretation on top of them and used it to our advantage.  Further, the interpretation we developed here is no more fundamental nor of more general value than any of the others that we will develop. I suppose, matrices themselves are not terribly interesting.  But, we can breathe some life into them by placing them inside a narrative structure, and we can leverage their strengths to make our ideas more tangible and organized.  Perhaps this is rather analogous to how the letters of our alphabet are somewhat arbitrary and only become interesting when we give them utility and life through the stories we share.  I encourage you to begin to view math less as a museum of esoteric and detached symbols, and to look instead to the flow of ideas that happen to utilize an economy of notation. "
    },
    {
      "metadata": {},
      "cell_type": "markdown",
      "source": "<h2>Appendix: Tools Used</h2>\n\nThis section contains some of the programming tools that I have used to create the above results, and avoid the tedium of typing everything by hand.  Because these do not provide insight into the linear algebra topic at hand, they deserve to be relegated to an appendix, while being retained for the curious."
    },
    {
      "metadata": {},
      "cell_type": "markdown",
      "source": "Latex matrices aren't enjoyable to type, so we define here a function to convert a matrix array into the appropriate string:"
    },
    {
      "metadata": {
        "trusted": true
      },
      "cell_type": "code",
      "source": "import numpy as np\n\n#feed in a numpy array and format to latex bmatrix\ndef latex_matrix(array):\n    rows = str(array).replace('[', '').replace(']', '').replace('0.5','\\\\frac{1}{2}').replace('0.75','\\\\frac{3}{4}').replace('0.25','\\\\frac{1}{4}').replace('.','').splitlines()\n    result = ['\\\\begin{bmatrix}']\n    result += ['  ' + ' & '.join(row.split()) + '\\\\\\\\' for row in rows]\n    result +=  ['\\\\end{bmatrix}']\n    return '\\n'.join(result)",
      "execution_count": 6,
      "outputs": []
    },
    {
      "metadata": {
        "trusted": true
      },
      "cell_type": "code",
      "source": "numpyPerson = np.array([[0,0,0,0,0,0,0,0,0],\n          [0,0,1,1,1,1,1,0,0],\n          [0,1,.5,.5,.5,.5,.5,1,0],\n          [0,1,.5,1,.5,1,.5,1,0],\n          [0,1,.5,.5,.5,.5,.5,1,0],\n          [0,1,.5,1,1,1,.5,1,0],\n          [0,0,.5,.5,.5,.5,.5,0,0],\n          [.5,.5,.75,.75,.75,.75,.75,.5,.5],\n          [.5,.5,.75,.75,.75,.75,.75,.5,.5],\n          [0,0,.75,.75,.75,.75,.75,0,0],\n          [0,0,.25,.25,.25,.25,.25,0,0],\n          [0,0,.5,.5,0,.5,.5,0,0]])\na = latex_matrix(numpyPerson)\nprint(a)",
      "execution_count": 7,
      "outputs": [
        {
          "output_type": "stream",
          "text": "\\begin{bmatrix}\n  0 & 0 & 0 & 0 & 0 & 0 & 0 & 0 & 0\\\\\n  0 & 0 & 1 & 1 & 1 & 1 & 1 & 0 & 0\\\\\n  0 & 1 & \\frac{1}{2} & \\frac{1}{2} & \\frac{1}{2} & \\frac{1}{2} & \\frac{1}{2} & 1 & 0\\\\\n  0 & 1 & \\frac{1}{2} & 1 & \\frac{1}{2} & 1 & \\frac{1}{2} & 1 & 0\\\\\n  0 & 1 & \\frac{1}{2} & \\frac{1}{2} & \\frac{1}{2} & \\frac{1}{2} & \\frac{1}{2} & 1 & 0\\\\\n  0 & 1 & \\frac{1}{2} & 1 & 1 & 1 & \\frac{1}{2} & 1 & 0\\\\\n  0 & 0 & \\frac{1}{2} & \\frac{1}{2} & \\frac{1}{2} & \\frac{1}{2} & \\frac{1}{2} & 0 & 0\\\\\n  \\frac{1}{2} & \\frac{1}{2} & \\frac{3}{4} & \\frac{3}{4} & \\frac{3}{4} & \\frac{3}{4} & \\frac{3}{4} & \\frac{1}{2} & \\frac{1}{2}\\\\\n  \\frac{1}{2} & \\frac{1}{2} & \\frac{3}{4} & \\frac{3}{4} & \\frac{3}{4} & \\frac{3}{4} & \\frac{3}{4} & \\frac{1}{2} & \\frac{1}{2}\\\\\n  0 & 0 & \\frac{3}{4} & \\frac{3}{4} & \\frac{3}{4} & \\frac{3}{4} & \\frac{3}{4} & 0 & 0\\\\\n  0 & 0 & \\frac{1}{4} & \\frac{1}{4} & \\frac{1}{4} & \\frac{1}{4} & \\frac{1}{4} & 0 & 0\\\\\n  0 & 0 & \\frac{1}{2} & \\frac{1}{2} & 0 & \\frac{1}{2} & \\frac{1}{2} & 0 & 0\\\\\n\\end{bmatrix}\n",
          "name": "stdout"
        }
      ]
    },
    {
      "metadata": {},
      "cell_type": "markdown",
      "source": "I created the palm image in <a href=\"https://www.pixilart.com\" target=\"_blank\">Pixilart</a>.  Rather than manually populating the RGB value array, I imported this image file into the appropriate array, \"palm\"."
    },
    {
      "metadata": {
        "trusted": true
      },
      "cell_type": "code",
      "source": "print(palm)",
      "execution_count": 81,
      "outputs": [
        {
          "output_type": "stream",
          "text": "[[[0.6        0.8        1.         1.        ]\n  [0.6        0.8        1.         1.        ]\n  [0.6        0.8        1.         1.        ]\n  ...\n  [0.6        0.8        1.         1.        ]\n  [0.6        0.8        1.         1.        ]\n  [0.6        0.8        1.         1.        ]]\n\n [[0.6        0.8        1.         1.        ]\n  [0.6        0.8        1.         1.        ]\n  [0.6        0.8        1.         1.        ]\n  ...\n  [0.6        0.8        1.         1.        ]\n  [0.6        0.8        1.         1.        ]\n  [0.6        0.8        1.         1.        ]]\n\n [[0.6        0.8        1.         1.        ]\n  [0.6        0.8        1.         1.        ]\n  [0.6        0.8        1.         1.        ]\n  ...\n  [0.6        0.8        1.         1.        ]\n  [0.6        0.8        1.         1.        ]\n  [0.6        0.8        1.         1.        ]]\n\n ...\n\n [[0.         0.47058824 0.74509805 1.        ]\n  [0.         0.47058824 0.74509805 1.        ]\n  [0.         0.47058824 0.74509805 1.        ]\n  ...\n  [0.99215686 0.49803922 0.2509804  1.        ]\n  [0.         0.47058824 0.74509805 1.        ]\n  [0.         0.47058824 0.74509805 1.        ]]\n\n [[0.         0.47058824 0.74509805 1.        ]\n  [0.         0.47058824 0.74509805 1.        ]\n  [0.         0.47058824 0.74509805 1.        ]\n  ...\n  [0.99215686 0.49803922 0.2509804  1.        ]\n  [0.         0.47058824 0.74509805 1.        ]\n  [0.         0.47058824 0.74509805 1.        ]]\n\n [[0.         0.47058824 0.74509805 1.        ]\n  [0.         0.47058824 0.74509805 1.        ]\n  [0.         0.47058824 0.74509805 1.        ]\n  ...\n  [0.         0.47058824 0.74509805 1.        ]\n  [0.         0.47058824 0.74509805 1.        ]\n  [0.         0.47058824 0.74509805 1.        ]]]\n",
          "name": "stdout"
        }
      ]
    },
    {
      "metadata": {},
      "cell_type": "markdown",
      "source": "This produces a RGBA vector for each pixel (where the 4th element represents opacity).  I need a function that will extract the respective color values and populate 3 separate matrices (I don't need the opacity information for the above discussion).\n\nI imagine there is a built-in to accomplish this, but the logic is simple enough that I will hardcode it for now."
    },
    {
      "metadata": {
        "trusted": true
      },
      "cell_type": "code",
      "source": "def rgb_extractor(array):\n    result = {}\n    red_matrix = []\n    green_matrix = []\n    blue_matrix = []\n    for row in array:\n        row_red = []\n        row_green = []\n        row_blue = []\n        for pixel in row:\n            row_red.append(pixel[0])\n            row_green.append(pixel[1])\n            row_blue.append(pixel[2])\n        \n        red_matrix.append(row_red)\n        green_matrix.append(row_green)\n        blue_matrix.append(row_blue)\n        \n    result['red'] = red_matrix\n    result['green'] = green_matrix\n    result['blue'] = blue_matrix\n    \n    return result\n\npalm_rgb = rgb_extractor(palm)\n\n#just to check desired outcome\nprint(palm_rgb['red'])\n            ",
      "execution_count": 8,
      "outputs": [
        {
          "output_type": "stream",
          "text": "[[0.6, 0.6, 0.6, 0.6, 0.6, 0.6, 0.6, 0.6, 0.6, 0.6, 0.6, 0.6, 0.6, 0.6, 0.6, 0.6], [0.6, 0.6, 0.6, 0.6, 0.6, 0.6, 0.6, 0.6, 0.6, 0.6, 0.6, 0.6, 0.6, 0.6, 0.6, 0.6], [0.6, 0.6, 0.6, 0.6, 0.6, 0.6, 0.6, 0.6, 0.6, 0.6, 0.6, 0.6, 0.6, 0.6, 0.6, 0.6], [0.6, 0.6, 0.6, 0.6, 0.6, 0.6, 0.6, 0.6, 0.6, 0.6, 0.6, 0.6, 0.6, 0.6, 0.6, 0.6], [0.6, 0.6, 0.6, 0.6, 0.6, 0.6, 0.6, 0.6, 0.6, 0.6, 0.6, 0.6, 0.0627451, 0.6901961, 0.6, 0.6], [0.6, 0.6, 0.6, 0.6901961, 0.0627451, 0.6, 0.6, 0.0627451, 0.0627451, 0.6, 0.6, 0.0627451, 0.6901961, 0.6, 0.6, 0.6], [0.6, 0.6, 0.6901961, 0.0627451, 0.6, 0.6, 0.6, 0.6901961, 0.6901961, 0.0627451, 0.0627451, 0.0627451, 0.6901961, 0.6, 0.6, 0.6], [0.6, 0.6, 0.6901961, 0.0627451, 0.6, 0.6901961, 0.0627451, 0.6, 0.6, 0.6901961, 0.6901961, 0.6901961, 0.0627451, 0.0627451, 0.0627451, 0.6], [0.6, 0.6, 0.6901961, 0.0627451, 0.6901961, 0.0627451, 0.6, 0.6901961, 0.6901961, 0.0627451, 0.0627451, 0.6901961, 0.6901961, 0.0627451, 0.6901961, 0.0627451], [0.6, 0.0627451, 0.0627451, 0.6901961, 0.0627451, 0.6, 0.6, 0.0627451, 0.0627451, 0.6, 0.4117647, 0.4117647, 0.0627451, 0.6901961, 0.0627451, 0.6], [0.0627451, 0.6901961, 0.6901961, 0.0627451, 0.6901961, 0.4117647, 0.6, 0.6, 0.6, 0.6, 0.4745098, 0.4117647, 0.0627451, 0.6901961, 0.0627451, 0.6], [0.0627451, 0.6, 0.6901961, 0.0627451, 0.6901961, 0.4117647, 0.4745098, 0.6, 0.6, 0.4117647, 0.4117647, 0.4745098, 0.6, 0.6901961, 0.0627451, 0.6], [0.6, 0.6, 0.0627451, 0.6901961, 0.6, 0.6, 0.4117647, 0.4117647, 0.6, 0.4745098, 0.4117647, 0.6, 0.6, 0.6, 0.6, 0.6], [0.6, 0.6, 0.0627451, 0.6901961, 0.6, 0.6, 0.6, 0.4745098, 0.4117647, 0.4117647, 0.4745098, 0.6, 0.6, 0.6, 0.6, 0.6], [0.6, 0.6, 0.6, 0.6, 0.6, 0.6, 0.6, 0.4117647, 0.4745098, 0.4117647, 0.4117647, 0.6, 0.6, 0.6, 0.6, 0.6], [0.0, 0.0, 0.0, 0.0, 0.0, 0.0, 0.0, 0.0, 0.4117647, 0.4745098, 0.0, 0.0, 0.0, 0.0, 0.0, 0.0], [0.0, 0.0, 0.0, 0.0, 0.0, 0.99607843, 0.99607843, 0.99607843, 0.4117647, 0.4117647, 0.99607843, 0.99607843, 0.0, 0.0, 0.0, 0.0], [0.0, 0.0, 0.0, 0.0, 0.99607843, 0.99607843, 0.99607843, 0.99607843, 0.4745098, 0.4117647, 0.99607843, 0.99607843, 0.99607843, 0.99215686, 0.0, 0.0], [0.0, 0.0, 0.0, 0.0, 0.99215686, 0.99215686, 0.99607843, 0.99607843, 0.99607843, 0.99607843, 0.99607843, 0.99607843, 0.99215686, 0.99215686, 0.0, 0.0], [0.0, 0.0, 0.0, 0.0, 0.0, 0.99215686, 0.99215686, 0.99215686, 0.99215686, 0.99215686, 0.99215686, 0.99215686, 0.99215686, 0.0, 0.0, 0.0]]\n",
          "name": "stdout"
        }
      ]
    },
    {
      "metadata": {},
      "cell_type": "markdown",
      "source": "These are suitable for the plotting above, but I also want to convert these to a form suitable for the matrix rendering:"
    },
    {
      "metadata": {
        "trusted": true
      },
      "cell_type": "code",
      "source": "import math\n\npalm_red_int = [[math.floor(x*255) for x in layer1] for layer1 in palm_rgb['red']]\npalm_green_int = [[math.floor(x*255) for x in layer1] for layer1 in palm_rgb['green']]\npalm_blue_int = [[math.floor(x*255) for x in layer1] for layer1 in palm_rgb['blue']]",
      "execution_count": 9,
      "outputs": []
    },
    {
      "metadata": {
        "trusted": true
      },
      "cell_type": "code",
      "source": "palm_red_matrix = np.array(palm_red_int)\ntempRed = latex_matrix(palm_red_matrix)\nprint(tempRed)",
      "execution_count": 112,
      "outputs": [
        {
          "output_type": "stream",
          "text": "\\begin{bmatrix}\n  153 & 153 & 153 & 153 & 153 & 153 & 153 & 153 & 153 & 153 & 153 & 153 & 153 & 153 & 153 & 153\\\\\n  153 & 153 & 153 & 153 & 153 & 153 & 153 & 153 & 153 & 153 & 153 & 153 & 153 & 153 & 153 & 153\\\\\n  153 & 153 & 153 & 153 & 153 & 153 & 153 & 153 & 153 & 153 & 153 & 153 & 153 & 153 & 153 & 153\\\\\n  153 & 153 & 153 & 153 & 153 & 153 & 153 & 153 & 153 & 153 & 153 & 153 & 153 & 153 & 153 & 153\\\\\n  153 & 153 & 153 & 153 & 153 & 153 & 153 & 153 & 153 & 153 & 153 & 153 & 16 & 176 & 153 & 153\\\\\n  153 & 153 & 153 & 176 & 16 & 153 & 153 & 16 & 16 & 153 & 153 & 16 & 176 & 153 & 153 & 153\\\\\n  153 & 153 & 176 & 16 & 153 & 153 & 153 & 176 & 176 & 16 & 16 & 16 & 176 & 153 & 153 & 153\\\\\n  153 & 153 & 176 & 16 & 153 & 176 & 16 & 153 & 153 & 176 & 176 & 176 & 16 & 16 & 16 & 153\\\\\n  153 & 153 & 176 & 16 & 176 & 16 & 153 & 176 & 176 & 16 & 16 & 176 & 176 & 16 & 176 & 16\\\\\n  153 & 16 & 16 & 176 & 16 & 153 & 153 & 16 & 16 & 153 & 105 & 105 & 16 & 176 & 16 & 153\\\\\n  16 & 176 & 176 & 16 & 176 & 105 & 153 & 153 & 153 & 153 & 121 & 105 & 16 & 176 & 16 & 153\\\\\n  16 & 153 & 176 & 16 & 176 & 105 & 121 & 153 & 153 & 105 & 105 & 121 & 153 & 176 & 16 & 153\\\\\n  153 & 153 & 16 & 176 & 153 & 153 & 105 & 105 & 153 & 121 & 105 & 153 & 153 & 153 & 153 & 153\\\\\n  153 & 153 & 16 & 176 & 153 & 153 & 153 & 121 & 105 & 105 & 121 & 153 & 153 & 153 & 153 & 153\\\\\n  153 & 153 & 153 & 153 & 153 & 153 & 153 & 105 & 121 & 105 & 105 & 153 & 153 & 153 & 153 & 153\\\\\n  0 & 0 & 0 & 0 & 0 & 0 & 0 & 0 & 105 & 121 & 0 & 0 & 0 & 0 & 0 & 0\\\\\n  0 & 0 & 0 & 0 & 0 & 254 & 254 & 254 & 105 & 105 & 254 & 254 & 0 & 0 & 0 & 0\\\\\n  0 & 0 & 0 & 0 & 254 & 254 & 254 & 254 & 121 & 105 & 254 & 254 & 254 & 253 & 0 & 0\\\\\n  0 & 0 & 0 & 0 & 253 & 253 & 254 & 254 & 254 & 254 & 254 & 254 & 253 & 253 & 0 & 0\\\\\n  0 & 0 & 0 & 0 & 0 & 253 & 253 & 253 & 253 & 253 & 253 & 253 & 253 & 0 & 0 & 0\\\\\n\\end{bmatrix}\n",
          "name": "stdout"
        }
      ]
    },
    {
      "metadata": {
        "trusted": true
      },
      "cell_type": "code",
      "source": "palm_green_matrix = np.array(palm_green_int)\ntempGreen = latex_matrix(palm_green_matrix)\nprint(tempGreen)",
      "execution_count": 114,
      "outputs": [
        {
          "output_type": "stream",
          "text": "\\begin{bmatrix}\n  204 & 204 & 204 & 204 & 204 & 204 & 204 & 204 & 204 & 204 & 204 & 204 & 204 & 204 & 204 & 204\\\\\n  204 & 204 & 204 & 204 & 204 & 204 & 204 & 204 & 204 & 204 & 204 & 204 & 204 & 204 & 204 & 204\\\\\n  204 & 204 & 204 & 204 & 204 & 204 & 204 & 204 & 204 & 204 & 204 & 204 & 204 & 204 & 204 & 204\\\\\n  204 & 204 & 204 & 204 & 204 & 204 & 204 & 204 & 204 & 204 & 204 & 204 & 204 & 204 & 204 & 204\\\\\n  204 & 204 & 204 & 204 & 204 & 204 & 204 & 204 & 204 & 204 & 204 & 204 & 106 & 189 & 204 & 204\\\\\n  204 & 204 & 204 & 189 & 106 & 204 & 204 & 106 & 106 & 204 & 204 & 106 & 189 & 204 & 204 & 204\\\\\n  204 & 204 & 189 & 106 & 204 & 204 & 204 & 189 & 189 & 106 & 106 & 106 & 189 & 204 & 204 & 204\\\\\n  204 & 204 & 189 & 106 & 204 & 189 & 106 & 204 & 204 & 189 & 189 & 189 & 106 & 106 & 106 & 204\\\\\n  204 & 204 & 189 & 106 & 189 & 106 & 204 & 189 & 189 & 106 & 106 & 189 & 189 & 106 & 189 & 106\\\\\n  204 & 106 & 106 & 189 & 106 & 204 & 204 & 106 & 106 & 204 & 79 & 79 & 106 & 189 & 106 & 204\\\\\n  106 & 189 & 189 & 106 & 189 & 79 & 204 & 204 & 204 & 204 & 85 & 79 & 106 & 189 & 106 & 204\\\\\n  106 & 204 & 189 & 106 & 189 & 79 & 85 & 204 & 204 & 79 & 79 & 85 & 204 & 189 & 106 & 204\\\\\n  204 & 204 & 106 & 189 & 204 & 204 & 79 & 79 & 204 & 85 & 79 & 204 & 204 & 204 & 204 & 204\\\\\n  204 & 204 & 106 & 189 & 204 & 204 & 204 & 85 & 79 & 79 & 85 & 204 & 204 & 204 & 204 & 204\\\\\n  204 & 204 & 204 & 204 & 204 & 204 & 204 & 79 & 85 & 79 & 79 & 204 & 204 & 204 & 204 & 204\\\\\n  120 & 120 & 120 & 120 & 120 & 120 & 120 & 120 & 79 & 85 & 120 & 120 & 120 & 120 & 120 & 120\\\\\n  120 & 120 & 120 & 120 & 120 & 193 & 193 & 193 & 79 & 79 & 193 & 193 & 120 & 120 & 120 & 120\\\\\n  120 & 120 & 120 & 120 & 193 & 193 & 193 & 193 & 85 & 79 & 193 & 193 & 193 & 127 & 120 & 120\\\\\n  120 & 120 & 120 & 120 & 127 & 127 & 193 & 193 & 193 & 193 & 193 & 193 & 127 & 127 & 120 & 120\\\\\n  120 & 120 & 120 & 120 & 120 & 127 & 127 & 127 & 127 & 127 & 127 & 127 & 127 & 120 & 120 & 120\\\\\n\\end{bmatrix}\n",
          "name": "stdout"
        }
      ]
    },
    {
      "metadata": {
        "trusted": true
      },
      "cell_type": "code",
      "source": "palm_blue_matrix = np.array(palm_blue_int)\ntempBlue = latex_matrix(palm_blue_matrix)\nprint(tempBlue)",
      "execution_count": 115,
      "outputs": [
        {
          "output_type": "stream",
          "text": "\\begin{bmatrix}\n  255 & 255 & 255 & 255 & 255 & 255 & 255 & 255 & 255 & 255 & 255 & 255 & 255 & 255 & 255 & 255\\\\\n  255 & 255 & 255 & 255 & 255 & 255 & 255 & 255 & 255 & 255 & 255 & 255 & 255 & 255 & 255 & 255\\\\\n  255 & 255 & 255 & 255 & 255 & 255 & 255 & 255 & 255 & 255 & 255 & 255 & 255 & 255 & 255 & 255\\\\\n  255 & 255 & 255 & 255 & 255 & 255 & 255 & 255 & 255 & 255 & 255 & 255 & 255 & 255 & 255 & 255\\\\\n  255 & 255 & 255 & 255 & 255 & 255 & 255 & 255 & 255 & 255 & 255 & 255 & 64 & 80 & 255 & 255\\\\\n  255 & 255 & 255 & 80 & 64 & 255 & 255 & 64 & 64 & 255 & 255 & 64 & 80 & 255 & 255 & 255\\\\\n  255 & 255 & 80 & 64 & 255 & 255 & 255 & 80 & 80 & 64 & 64 & 64 & 80 & 255 & 255 & 255\\\\\n  255 & 255 & 80 & 64 & 255 & 80 & 64 & 255 & 255 & 80 & 80 & 80 & 64 & 64 & 64 & 255\\\\\n  255 & 255 & 80 & 64 & 80 & 64 & 255 & 80 & 80 & 64 & 64 & 80 & 80 & 64 & 80 & 64\\\\\n  255 & 64 & 64 & 80 & 64 & 255 & 255 & 64 & 64 & 255 & 68 & 68 & 64 & 80 & 64 & 255\\\\\n  64 & 80 & 80 & 64 & 80 & 68 & 255 & 255 & 255 & 255 & 72 & 68 & 64 & 80 & 64 & 255\\\\\n  64 & 255 & 80 & 64 & 80 & 68 & 72 & 255 & 255 & 68 & 68 & 72 & 255 & 80 & 64 & 255\\\\\n  255 & 255 & 64 & 80 & 255 & 255 & 68 & 68 & 255 & 72 & 68 & 255 & 255 & 255 & 255 & 255\\\\\n  255 & 255 & 64 & 80 & 255 & 255 & 255 & 72 & 68 & 68 & 72 & 255 & 255 & 255 & 255 & 255\\\\\n  255 & 255 & 255 & 255 & 255 & 255 & 255 & 68 & 72 & 68 & 68 & 255 & 255 & 255 & 255 & 255\\\\\n  190 & 190 & 190 & 190 & 190 & 190 & 190 & 190 & 68 & 72 & 190 & 190 & 190 & 190 & 190 & 190\\\\\n  190 & 190 & 190 & 190 & 190 & 61 & 61 & 61 & 68 & 68 & 61 & 61 & 190 & 190 & 190 & 190\\\\\n  190 & 190 & 190 & 190 & 61 & 61 & 61 & 61 & 72 & 68 & 61 & 61 & 61 & 64 & 190 & 190\\\\\n  190 & 190 & 190 & 190 & 64 & 64 & 61 & 61 & 61 & 61 & 61 & 61 & 64 & 64 & 190 & 190\\\\\n  190 & 190 & 190 & 190 & 190 & 64 & 64 & 64 & 64 & 64 & 64 & 64 & 64 & 190 & 190 & 190\\\\\n\\end{bmatrix}\n",
          "name": "stdout"
        }
      ]
    }
  ],
  "metadata": {
    "kernelspec": {
      "name": "python3",
      "display_name": "Python 3",
      "language": "python"
    },
    "language_info": {
      "mimetype": "text/x-python",
      "nbconvert_exporter": "python",
      "name": "python",
      "pygments_lexer": "ipython3",
      "version": "3.5.4",
      "file_extension": ".py",
      "codemirror_mode": {
        "version": 3,
        "name": "ipython"
      }
    }
  },
  "nbformat": 4,
  "nbformat_minor": 2
}