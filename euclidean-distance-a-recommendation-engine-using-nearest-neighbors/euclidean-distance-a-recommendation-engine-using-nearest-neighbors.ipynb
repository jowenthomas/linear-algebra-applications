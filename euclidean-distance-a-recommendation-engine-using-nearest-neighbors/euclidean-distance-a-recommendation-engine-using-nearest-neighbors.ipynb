{
  "cells": [
    {
      "metadata": {
        "collapsed": true
      },
      "cell_type": "markdown",
      "source": "<h1 align='center'>Euclidean Distance: <br>\nA Recommendation Engine Using Nearest Neighbors</h1>"
    },
    {
      "metadata": {},
      "cell_type": "markdown",
      "source": "<h2>Prerequisites</h2>\n<ul>\n    <li>You have seen the standard/Euclidean <a href=\"https://en.wikipedia.org/wiki/Norm_(mathematics)#Euclidean_norm\" target=\"_blank\">norm</a> of a vector</li>\n    <li>You have some awareness of the ubiquity of making recommendations online.  For reference, briefly skim <a href=\"https://en.wikipedia.org/wiki/Recommender_system\" target=\"_blank\">this wiki</a>, <a href=\"https://www.thrillist.com/entertainment/nation/the-netflix-prize#\" target=\"_blank\"> this article</a> about Netflix from more than a decade ago, and <a href=\"https://www.nytimes.com/2017/04/17/arts/youtube-broadcasters-algorithm-ads.html\" target=\"_blank\"> this article</a> about YouTube indicating how this is still a difficult task. </li>\n    <li>It would be helpful if you have read the article, Higher Dimensions and Linear Regression, as we will be using a 20-dim space below\n</ul>"
    },
    {
      "metadata": {},
      "cell_type": "markdown",
      "source": "<h2>Introduction</h2>\nbriefly introduce euclidean distance\n\ndescribe the nature of our task, take a new user John, how can we assess if John will like the most recent Pixar film, Incredibles 2. tempting to find people who think the same as John for all of the other movies, i.e., those who have similar taste\n\nnearest neighbors uses euclidean distance to assess who is closest to John in terms of how they viewed all of the other movies"
    },
    {
      "metadata": {},
      "cell_type": "markdown",
      "source": "<h2>Our Data</h2>\nlook at our data briefly\n\nshow the simple linear regression for each movie against Incredibles 2\n\nand if we look at each of these individually, it is fairly easy to see who is close together.  Our goal is push this same idea into 20 dimensions."
    },
    {
      "metadata": {},
      "cell_type": "markdown",
      "source": "<h2>Appendix: Tools Used</h2>\n\nDespite my best efforts, I wasn't able to find a dataset that provide rankings for all the Pixar movies grouped by user. I also don't have 500 friends.  As such, I am taking some liberties and generating our user observations.  To do this, we will start by taking the mean rating from IMDB for each movie and generating observations via the inverse of the cumulative distribution function.  \n\nThis method has the disadvantage that we are unlikely to generate users who really love or really hate Pixar movies, and most will have a balanced assessment of Pixar as a whole. This is perhaps not realistic but will suffice for the linear algebra discussion that is our goal.  Furthermore, because IMDB does not list the standard deviation, I have chosen to use a standard deviation of 1 for every movie, which is unlikely to be the case. But, I am not trying to measure the controversy for each movie, so this will be fine for our purposes. \n\nFor reference, the Pixar movies and their ratings are:\n<ol>\n    <li> Toy Story, 1995: 8.3 </li>\n    <li> A Bug's Life, 1998: 7.2 </li>\n    <li> Toy Story 2, 1999: 7.9</li>\n    <li> Monsters, Inc., 2001: 8.1</li>\n    <li> Finding Nemo, 2003: 8.2</li>\n    <li> The Incredibles, 2004: 8.0</li>\n    <li> Cars, 2006:  7.2</li>\n    <li> Ratatouille, 2007: 8.0</li>\n    <li> WALL-E, 2008: 8.4</li>\n    <li> Up, 2009: 8.3</li>\n    <li> Toy Story 3, 2010: 8.3</li>\n    <li> Cars 2, 2011: 6.3</li>\n    <li> Brave, 2012: 7.2</li>\n    <li> Monsters University, 2013: 7.3</li>\n    <li> Inside Out, 2015: 8.4</li>\n    <li> The Good Dinosaur, 2015: 8.3</li>\n    <li> Finding Dory, 2016:  7.8</li>\n    <li> Cars 3, 2017:  6.8</li>\n    <li> Coco, 2017:  8.4</li>\n    <li> Incredibles 2, 2018:  8.1</li>\n</ol>\n\nFirst let's create a function to generate 500 observations given some mean."
    },
    {
      "metadata": {
        "trusted": true
      },
      "cell_type": "code",
      "source": "import numpy as np\nimport math\nfrom random import *\nfrom scipy.stats import norm\n\n#need to revisit this at some point. I am using continuous distribution methods and rounding for what should ideally be a discrete variable.\n#the consequences are negligible for this application, but there must be a more direct way\n\ndef obs_generator(mean):\n    #first we will generate some random observations around the mean using the inverse of the CDF, using the built-in ppf\n    initial = []\n\n    for x in range(0,500):\n        obs = norm.ppf(random(), loc=mean, scale=1)\n        if obs > 10:\n            initial.append(10)\n        else:\n            initial.append(obs)\n        \n    #while our set is large enough to get pretty close to our desired mean, we can adjust the generated values to get it closer\n    temp_mean = np.mean(initial)\n    temp_sd = np.std(initial)\n\n    result = []\n\n    for y in initial:\n        adj = mean + ((y - temp_mean)/temp_sd)\n        if adj > 10:\n            result.append(10)\n        else:\n            result.append(round(adj,1))\n        \n    #because we will put this into a dataframe, we will return this as a numpy array    \n    return np.array(result)\n\n#let's do a quick sanity check\ntest = obs_generator(7.3)\nprint(np.mean(test))",
      "execution_count": 17,
      "outputs": [
        {
          "output_type": "stream",
          "text": "7.2993999999999994\n",
          "name": "stdout"
        }
      ]
    },
    {
      "metadata": {},
      "cell_type": "markdown",
      "source": "Now, let's create our all of our observations:"
    },
    {
      "metadata": {
        "trusted": true
      },
      "cell_type": "code",
      "source": "#I will create variables so that I can control the order in which items are passed later\ntoy_obs =  obs_generator(8.3)\nbug_obs = obs_generator(7.2) \ntoy2_obs = obs_generator(7.9)\nmonst_obs = obs_generator(8.1)\nnemo_obs = obs_generator(8.2)\nincred_obs = obs_generator(8.0)\ncars_obs = obs_generator(7.2)\nrat_obs = obs_generator(8.0)\nwalle_obs = obs_generator(8.4)\nup_obs = obs_generator(8.3)\ntoy3_obs = obs_generator(8.3)\ncars2_obs = obs_generator(6.3)\nbrave_obs = obs_generator(7.2)\nmonst_univ_obs = obs_generator(7.3)\ninside_obs = obs_generator(8.4)\ndino_obs = obs_generator(8.3)\ndory_obs = obs_generator(7.8)\ncars3_obs = obs_generator(6.8)\ncoco_obs = obs_generator(8.4)\nincred2_obs = obs_generator(8.1)",
      "execution_count": 18,
      "outputs": []
    },
    {
      "metadata": {},
      "cell_type": "markdown",
      "source": "Now we will create our dataframe with columns as each movie and rows as each user:"
    },
    {
      "metadata": {
        "trusted": true
      },
      "cell_type": "code",
      "source": "import pandas as pd\n\nuser_ratings = pd.DataFrame({\n    \"Toy Story\": toy_obs,\n    \"A Bugs Life\": bug_obs,\n    \"Toy Story 2\": toy2_obs,\n    \"Monsters, Inc.\": monst_obs,\n    \"Finding Nemo\": nemo_obs,\n    \"The Incredibles\": incred_obs,\n    \"Cars\": cars_obs,\n    \"Ratatouille\": rat_obs,\n    \"WALL-E\": walle_obs,\n    \"Up\": up_obs,\n    \"Toy Story 3\": toy3_obs,\n    \"Cars 2\": cars2_obs,\n    \"Brave\": brave_obs,\n    \"Monsters University\": monst_univ_obs,\n    \"Inside Out\": inside_obs,\n    \"The Good Dinosaur\": dino_obs,\n    \"Finding Dory\": dory_obs,\n    \"Cars 3\": cars3_obs,\n    \"Coco\": coco_obs,\n    \"Incredibles 2\": incred2_obs\n})",
      "execution_count": 19,
      "outputs": []
    },
    {
      "metadata": {
        "trusted": true
      },
      "cell_type": "code",
      "source": "user_ratings.head()",
      "execution_count": 20,
      "outputs": [
        {
          "output_type": "execute_result",
          "execution_count": 20,
          "data": {
            "text/plain": "   A Bugs Life  Brave  Cars  Cars 2  Cars 3  Coco  Finding Dory  Finding Nemo  \\\n0          6.7    6.3   6.2     6.0     7.3   8.6           9.9           7.3   \n1          7.9    6.2   9.2     7.6     7.8   4.7           6.3           7.4   \n2          6.3    7.0   5.7     7.0     6.2   7.5           7.5           8.0   \n3          7.2    8.7   6.8     6.1     7.1   6.9           7.6           8.9   \n4          8.1    6.7   7.5     6.5     6.1   8.0           7.3           5.8   \n\n   Incredibles 2  Inside Out  Monsters University  Monsters, Inc.  \\\n0            7.9         9.0                  9.0             8.7   \n1            8.7         8.0                  8.1             8.7   \n2            6.9         8.4                  7.6             7.5   \n3            7.3         8.3                  7.0             6.6   \n4            9.3         8.4                  8.4             9.1   \n\n   Ratatouille  The Good Dinosaur  The Incredibles  Toy Story  Toy Story 2  \\\n0          7.9                8.4              7.0       10.0          9.0   \n1          7.5                8.9              8.5        9.7          7.0   \n2          8.2               10.0              8.9        8.3          7.4   \n3          8.2                8.0              7.2        6.7          8.9   \n4          7.5                9.7              7.2       10.0          7.0   \n\n   Toy Story 3   Up  WALL-E  \n0          8.6  9.3     8.3  \n1          6.5  7.5     7.9  \n2          7.0  8.4     8.2  \n3          8.8  9.5     8.6  \n4          8.5  8.5     8.6  ",
            "text/html": "<div>\n<table border=\"1\" class=\"dataframe\">\n  <thead>\n    <tr style=\"text-align: right;\">\n      <th></th>\n      <th>A Bugs Life</th>\n      <th>Brave</th>\n      <th>Cars</th>\n      <th>Cars 2</th>\n      <th>Cars 3</th>\n      <th>Coco</th>\n      <th>Finding Dory</th>\n      <th>Finding Nemo</th>\n      <th>Incredibles 2</th>\n      <th>Inside Out</th>\n      <th>Monsters University</th>\n      <th>Monsters, Inc.</th>\n      <th>Ratatouille</th>\n      <th>The Good Dinosaur</th>\n      <th>The Incredibles</th>\n      <th>Toy Story</th>\n      <th>Toy Story 2</th>\n      <th>Toy Story 3</th>\n      <th>Up</th>\n      <th>WALL-E</th>\n    </tr>\n  </thead>\n  <tbody>\n    <tr>\n      <th>0</th>\n      <td>6.7</td>\n      <td>6.3</td>\n      <td>6.2</td>\n      <td>6.0</td>\n      <td>7.3</td>\n      <td>8.6</td>\n      <td>9.9</td>\n      <td>7.3</td>\n      <td>7.9</td>\n      <td>9.0</td>\n      <td>9.0</td>\n      <td>8.7</td>\n      <td>7.9</td>\n      <td>8.4</td>\n      <td>7.0</td>\n      <td>10.0</td>\n      <td>9.0</td>\n      <td>8.6</td>\n      <td>9.3</td>\n      <td>8.3</td>\n    </tr>\n    <tr>\n      <th>1</th>\n      <td>7.9</td>\n      <td>6.2</td>\n      <td>9.2</td>\n      <td>7.6</td>\n      <td>7.8</td>\n      <td>4.7</td>\n      <td>6.3</td>\n      <td>7.4</td>\n      <td>8.7</td>\n      <td>8.0</td>\n      <td>8.1</td>\n      <td>8.7</td>\n      <td>7.5</td>\n      <td>8.9</td>\n      <td>8.5</td>\n      <td>9.7</td>\n      <td>7.0</td>\n      <td>6.5</td>\n      <td>7.5</td>\n      <td>7.9</td>\n    </tr>\n    <tr>\n      <th>2</th>\n      <td>6.3</td>\n      <td>7.0</td>\n      <td>5.7</td>\n      <td>7.0</td>\n      <td>6.2</td>\n      <td>7.5</td>\n      <td>7.5</td>\n      <td>8.0</td>\n      <td>6.9</td>\n      <td>8.4</td>\n      <td>7.6</td>\n      <td>7.5</td>\n      <td>8.2</td>\n      <td>10.0</td>\n      <td>8.9</td>\n      <td>8.3</td>\n      <td>7.4</td>\n      <td>7.0</td>\n      <td>8.4</td>\n      <td>8.2</td>\n    </tr>\n    <tr>\n      <th>3</th>\n      <td>7.2</td>\n      <td>8.7</td>\n      <td>6.8</td>\n      <td>6.1</td>\n      <td>7.1</td>\n      <td>6.9</td>\n      <td>7.6</td>\n      <td>8.9</td>\n      <td>7.3</td>\n      <td>8.3</td>\n      <td>7.0</td>\n      <td>6.6</td>\n      <td>8.2</td>\n      <td>8.0</td>\n      <td>7.2</td>\n      <td>6.7</td>\n      <td>8.9</td>\n      <td>8.8</td>\n      <td>9.5</td>\n      <td>8.6</td>\n    </tr>\n    <tr>\n      <th>4</th>\n      <td>8.1</td>\n      <td>6.7</td>\n      <td>7.5</td>\n      <td>6.5</td>\n      <td>6.1</td>\n      <td>8.0</td>\n      <td>7.3</td>\n      <td>5.8</td>\n      <td>9.3</td>\n      <td>8.4</td>\n      <td>8.4</td>\n      <td>9.1</td>\n      <td>7.5</td>\n      <td>9.7</td>\n      <td>7.2</td>\n      <td>10.0</td>\n      <td>7.0</td>\n      <td>8.5</td>\n      <td>8.5</td>\n      <td>8.6</td>\n    </tr>\n  </tbody>\n</table>\n</div>"
          },
          "metadata": {}
        }
      ]
    },
    {
      "metadata": {
        "trusted": true
      },
      "cell_type": "code",
      "source": "user_ratings.describe()",
      "execution_count": 21,
      "outputs": [
        {
          "output_type": "execute_result",
          "execution_count": 21,
          "data": {
            "text/plain": "       A Bugs Life       Brave        Cars     Cars 2      Cars 3        Coco  \\\ncount   500.000000  500.000000  500.000000  500.00000  500.000000  500.000000   \nmean      7.198400    7.200600    7.200200    6.30020    6.800400    8.392800   \nstd       1.000319    1.001672    0.999589    1.00401    1.001422    0.984625   \nmin       4.200000    4.700000    4.100000    3.60000    4.100000    4.700000   \n25%       6.500000    6.500000    6.575000    5.60000    6.100000    7.700000   \n50%       7.200000    7.200000    7.200000    6.30000    6.800000    8.400000   \n75%       7.900000    7.900000    7.800000    6.90000    7.400000    9.200000   \nmax      10.000000   10.000000    9.900000    9.20000    9.500000   10.000000   \n\n       Finding Dory  Finding Nemo  Incredibles 2  Inside Out  \\\ncount    500.000000    500.000000     500.000000  500.000000   \nmean       7.798600      8.194800       8.096600    8.396400   \nstd        1.000129      0.991776       0.997938    0.993318   \nmin        4.300000      5.200000       5.200000    5.000000   \n25%        7.100000      7.500000       7.400000    7.700000   \n50%        7.800000      8.200000       8.100000    8.400000   \n75%        8.500000      8.900000       8.800000    9.100000   \nmax        9.900000     10.000000       9.900000   10.000000   \n\n       Monsters University  Monsters, Inc.  Ratatouille  The Good Dinosaur  \\\ncount           500.000000      500.000000   500.000000         500.000000   \nmean              7.302600        8.100000     8.000200           8.298600   \nstd               1.002548        0.996829     0.999228           0.996737   \nmin               4.500000        5.400000     5.200000           5.300000   \n25%               6.600000        7.400000     7.300000           7.600000   \n50%               7.300000        8.100000     8.000000           8.300000   \n75%               8.000000        8.800000     8.700000           9.025000   \nmax              10.000000       10.000000    10.000000          10.000000   \n\n       The Incredibles   Toy Story  Toy Story 2  Toy Story 3          Up  \\\ncount       500.000000  500.000000   500.000000   500.000000  500.000000   \nmean          7.999800    8.289200     7.899400     8.299800    8.300600   \nstd           1.001512    0.982514     0.995913     1.000451    1.003231   \nmin           5.100000    5.500000     4.500000     5.300000    5.600000   \n25%           7.300000    7.600000     7.200000     7.675000    7.600000   \n50%           8.000000    8.300000     7.900000     8.300000    8.400000   \n75%           8.700000    9.000000     8.600000     9.100000    9.100000   \nmax          10.000000   10.000000    10.000000     9.900000   10.000000   \n\n           WALL-E  \ncount  500.000000  \nmean     8.396200  \nstd      0.991469  \nmin      5.500000  \n25%      7.800000  \n50%      8.400000  \n75%      9.200000  \nmax     10.000000  ",
            "text/html": "<div>\n<table border=\"1\" class=\"dataframe\">\n  <thead>\n    <tr style=\"text-align: right;\">\n      <th></th>\n      <th>A Bugs Life</th>\n      <th>Brave</th>\n      <th>Cars</th>\n      <th>Cars 2</th>\n      <th>Cars 3</th>\n      <th>Coco</th>\n      <th>Finding Dory</th>\n      <th>Finding Nemo</th>\n      <th>Incredibles 2</th>\n      <th>Inside Out</th>\n      <th>Monsters University</th>\n      <th>Monsters, Inc.</th>\n      <th>Ratatouille</th>\n      <th>The Good Dinosaur</th>\n      <th>The Incredibles</th>\n      <th>Toy Story</th>\n      <th>Toy Story 2</th>\n      <th>Toy Story 3</th>\n      <th>Up</th>\n      <th>WALL-E</th>\n    </tr>\n  </thead>\n  <tbody>\n    <tr>\n      <th>count</th>\n      <td>500.000000</td>\n      <td>500.000000</td>\n      <td>500.000000</td>\n      <td>500.00000</td>\n      <td>500.000000</td>\n      <td>500.000000</td>\n      <td>500.000000</td>\n      <td>500.000000</td>\n      <td>500.000000</td>\n      <td>500.000000</td>\n      <td>500.000000</td>\n      <td>500.000000</td>\n      <td>500.000000</td>\n      <td>500.000000</td>\n      <td>500.000000</td>\n      <td>500.000000</td>\n      <td>500.000000</td>\n      <td>500.000000</td>\n      <td>500.000000</td>\n      <td>500.000000</td>\n    </tr>\n    <tr>\n      <th>mean</th>\n      <td>7.198400</td>\n      <td>7.200600</td>\n      <td>7.200200</td>\n      <td>6.30020</td>\n      <td>6.800400</td>\n      <td>8.392800</td>\n      <td>7.798600</td>\n      <td>8.194800</td>\n      <td>8.096600</td>\n      <td>8.396400</td>\n      <td>7.302600</td>\n      <td>8.100000</td>\n      <td>8.000200</td>\n      <td>8.298600</td>\n      <td>7.999800</td>\n      <td>8.289200</td>\n      <td>7.899400</td>\n      <td>8.299800</td>\n      <td>8.300600</td>\n      <td>8.396200</td>\n    </tr>\n    <tr>\n      <th>std</th>\n      <td>1.000319</td>\n      <td>1.001672</td>\n      <td>0.999589</td>\n      <td>1.00401</td>\n      <td>1.001422</td>\n      <td>0.984625</td>\n      <td>1.000129</td>\n      <td>0.991776</td>\n      <td>0.997938</td>\n      <td>0.993318</td>\n      <td>1.002548</td>\n      <td>0.996829</td>\n      <td>0.999228</td>\n      <td>0.996737</td>\n      <td>1.001512</td>\n      <td>0.982514</td>\n      <td>0.995913</td>\n      <td>1.000451</td>\n      <td>1.003231</td>\n      <td>0.991469</td>\n    </tr>\n    <tr>\n      <th>min</th>\n      <td>4.200000</td>\n      <td>4.700000</td>\n      <td>4.100000</td>\n      <td>3.60000</td>\n      <td>4.100000</td>\n      <td>4.700000</td>\n      <td>4.300000</td>\n      <td>5.200000</td>\n      <td>5.200000</td>\n      <td>5.000000</td>\n      <td>4.500000</td>\n      <td>5.400000</td>\n      <td>5.200000</td>\n      <td>5.300000</td>\n      <td>5.100000</td>\n      <td>5.500000</td>\n      <td>4.500000</td>\n      <td>5.300000</td>\n      <td>5.600000</td>\n      <td>5.500000</td>\n    </tr>\n    <tr>\n      <th>25%</th>\n      <td>6.500000</td>\n      <td>6.500000</td>\n      <td>6.575000</td>\n      <td>5.60000</td>\n      <td>6.100000</td>\n      <td>7.700000</td>\n      <td>7.100000</td>\n      <td>7.500000</td>\n      <td>7.400000</td>\n      <td>7.700000</td>\n      <td>6.600000</td>\n      <td>7.400000</td>\n      <td>7.300000</td>\n      <td>7.600000</td>\n      <td>7.300000</td>\n      <td>7.600000</td>\n      <td>7.200000</td>\n      <td>7.675000</td>\n      <td>7.600000</td>\n      <td>7.800000</td>\n    </tr>\n    <tr>\n      <th>50%</th>\n      <td>7.200000</td>\n      <td>7.200000</td>\n      <td>7.200000</td>\n      <td>6.30000</td>\n      <td>6.800000</td>\n      <td>8.400000</td>\n      <td>7.800000</td>\n      <td>8.200000</td>\n      <td>8.100000</td>\n      <td>8.400000</td>\n      <td>7.300000</td>\n      <td>8.100000</td>\n      <td>8.000000</td>\n      <td>8.300000</td>\n      <td>8.000000</td>\n      <td>8.300000</td>\n      <td>7.900000</td>\n      <td>8.300000</td>\n      <td>8.400000</td>\n      <td>8.400000</td>\n    </tr>\n    <tr>\n      <th>75%</th>\n      <td>7.900000</td>\n      <td>7.900000</td>\n      <td>7.800000</td>\n      <td>6.90000</td>\n      <td>7.400000</td>\n      <td>9.200000</td>\n      <td>8.500000</td>\n      <td>8.900000</td>\n      <td>8.800000</td>\n      <td>9.100000</td>\n      <td>8.000000</td>\n      <td>8.800000</td>\n      <td>8.700000</td>\n      <td>9.025000</td>\n      <td>8.700000</td>\n      <td>9.000000</td>\n      <td>8.600000</td>\n      <td>9.100000</td>\n      <td>9.100000</td>\n      <td>9.200000</td>\n    </tr>\n    <tr>\n      <th>max</th>\n      <td>10.000000</td>\n      <td>10.000000</td>\n      <td>9.900000</td>\n      <td>9.20000</td>\n      <td>9.500000</td>\n      <td>10.000000</td>\n      <td>9.900000</td>\n      <td>10.000000</td>\n      <td>9.900000</td>\n      <td>10.000000</td>\n      <td>10.000000</td>\n      <td>10.000000</td>\n      <td>10.000000</td>\n      <td>10.000000</td>\n      <td>10.000000</td>\n      <td>10.000000</td>\n      <td>10.000000</td>\n      <td>9.900000</td>\n      <td>10.000000</td>\n      <td>10.000000</td>\n    </tr>\n  </tbody>\n</table>\n</div>"
          },
          "metadata": {}
        }
      ]
    },
    {
      "metadata": {},
      "cell_type": "markdown",
      "source": "And, we now have a dataframe with 500 user ratings such that the mean rating for each movie corresponds to that provided by IMDB.\n\nAgain, this does have a slight problem with it.  Notice under Cars 2 that the max rating is 9.2.  I'm sure there is someone out there who loves Cars 2 and gave it a 10.  But, they are so far away from the mean, even without knowing the standard deviation, that they aren't likely to have many associates. Also, I have allowed our user ratings to be floats, rounded to one decimal place; I think IMDB only allows for integer voting values.  As I observered earlier, I would like to return to the structure of the obs_generator function to resolve this continuous vs. discrete variable issue at a later date.  Also, in a survey this large, we would surely have some Null values for users who haven't seen a particular movie.  I have generated ratings for every user for every movie, but, in practice, we would need to confront these Null values and decide how to parse them.  But, for the linear algebra discussion above, I am content with these slight abuses of reality."
    },
    {
      "metadata": {
        "trusted": true
      },
      "cell_type": "code",
      "source": "",
      "execution_count": null,
      "outputs": []
    }
  ],
  "metadata": {
    "kernelspec": {
      "name": "python3",
      "display_name": "Python 3",
      "language": "python"
    },
    "language_info": {
      "mimetype": "text/x-python",
      "nbconvert_exporter": "python",
      "name": "python",
      "pygments_lexer": "ipython3",
      "version": "3.5.4",
      "file_extension": ".py",
      "codemirror_mode": {
        "version": 3,
        "name": "ipython"
      }
    }
  },
  "nbformat": 4,
  "nbformat_minor": 2
}